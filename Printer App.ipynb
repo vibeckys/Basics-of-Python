{
 "cells": [
  {
   "cell_type": "code",
   "execution_count": 2,
   "metadata": {},
   "outputs": [
    {
     "name": "stdout",
     "output_type": "stream",
     "text": [
      "Printer App\n",
      "This app is made by:\n"
     ]
    }
   ],
   "source": [
    "print(\"Printer App\")\n",
    "print(\"This app is made by:\")"
   ]
  },
  {
   "cell_type": "code",
   "execution_count": 31,
   "metadata": {},
   "outputs": [
    {
     "name": "stdout",
     "output_type": "stream",
     "text": [
      "This is made by: vibecky.\n",
      "The value of number1 is  5\n",
      "The value of number2 is  20\n",
      "5 * 20 = 100\n",
      "5 + 20 = 25\n",
      "5 / 20 = 0.25\n",
      "5 - 20 = -15\n"
     ]
    }
   ],
   "source": [
    "creator = \"vibecky\"\n",
    "number1 = 5\n",
    "number2 = 20\n",
    "multiplication = number1 * number2 \n",
    "addition = number1 + number2\n",
    "division = number1 / number2\n",
    "substraction = number1 - number2\n",
    "\n",
    "print(\"This is made by: \" + creator + \".\")\n",
    "print(\"The value of number1 is \", number1)\n",
    "print(\"The value of number2 is \", number2)\n",
    "print(number1, \"*\" , number2, \"=\", multiplication)\n",
    "print(number1, \"+\", number2, \"=\",addition)\n",
    "print(number1, \"/\", number2, \"=\", division)\n",
    "print(number1, \"-\", number2, \"=\", substraction)\n",
    "\n",
    "\n"
   ]
  },
  {
   "cell_type": "code",
   "execution_count": 30,
   "metadata": {},
   "outputs": [
    {
     "name": "stdout",
     "output_type": "stream",
     "text": [
      "The value of number1 is  5\n",
      "The value of number2 is  20\n",
      "5 * 20 = 100\n",
      "5 + 20 = 25\n",
      "5 / 20 = 0.25\n",
      "5 - 20 = -15\n"
     ]
    }
   ],
   "source": [
    "\n",
    "\n"
   ]
  }
 ],
 "metadata": {
  "kernelspec": {
   "display_name": "Python 3",
   "language": "python",
   "name": "python3"
  },
  "language_info": {
   "codemirror_mode": {
    "name": "ipython",
    "version": 3
   },
   "file_extension": ".py",
   "mimetype": "text/x-python",
   "name": "python",
   "nbconvert_exporter": "python",
   "pygments_lexer": "ipython3",
   "version": "3.13.0"
  }
 },
 "nbformat": 4,
 "nbformat_minor": 2
}
