{
 "cells": [
  {
   "cell_type": "code",
   "execution_count": 1,
   "metadata": {},
   "outputs": [],
   "source": [
    "#Guessing game.\n",
    "correct_name = \"Violeta\"\n",
    "guess_counter = 0\n",
    "\n",
    "while True:\n",
    "  user_guess = input(\"Guess the name: \")\n",
    "  guess_counter += 1\n",
    "\n",
    "  if user_guess == correct_name:\n",
    "    print(\"Congratulations, it's correct!\")\n",
    "    print(f\"You guessed the correct name in {guess_counter} attempts.\")\n",
    "    break\n",
    "  else:\n",
    "    print(\"Incorrect, try again.\")\n",
    "    quit_response = input(\"Do you want to quit? (yes/no): \").strip().lower()\n",
    "    if quit_response == \"yes\":\n",
    "       print(\"Thanks for playing!\")\n",
    "       break \n",
    "\n"
   ]
  }
 ],
 "metadata": {
  "kernelspec": {
   "display_name": "Python 3",
   "language": "python",
   "name": "python3"
  },
  "language_info": {
   "codemirror_mode": {
    "name": "ipython",
    "version": 3
   },
   "file_extension": ".py",
   "mimetype": "text/x-python",
   "name": "python",
   "nbconvert_exporter": "python",
   "pygments_lexer": "ipython3",
   "version": "3.13.0"
  }
 },
 "nbformat": 4,
 "nbformat_minor": 2
}
