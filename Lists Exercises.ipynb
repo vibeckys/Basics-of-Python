{
 "cells": [
  {
   "cell_type": "code",
   "execution_count": 7,
   "metadata": {},
   "outputs": [
    {
     "name": "stdout",
     "output_type": "stream",
     "text": [
      "The whole list: ['lamp', 'sofa', 'shelf', 'chair', 'Table', 'wardrobe']\n",
      "First two elements: lamp sofa\n",
      "Found item: sofa\n"
     ]
    }
   ],
   "source": [
    "#Exercise 1\n",
    "furnuture = [\"lamp\", \"sofa\", \"shelf\", \"chair\", \"Table\", \"wardrobe\"]\n",
    "print(\"The whole list:\", furnuture)\n",
    "print(\"First two elements:\", furnuture[0], furnuture[1])\n",
    "for item in furnuture:\n",
    "    if item == \"sofa\":\n",
    "        print(\"Found item:\", item)\n",
    "        break\n"
   ]
  },
  {
   "cell_type": "code",
   "execution_count": 11,
   "metadata": {},
   "outputs": [
    {
     "name": "stdout",
     "output_type": "stream",
     "text": [
      "List of thrown dice numbers: [3, 6, 1, 4, 6]\n",
      "sum of the values: 20\n",
      "Highest value in the list: 6\n"
     ]
    }
   ],
   "source": [
    "# Execise 2 \n",
    "import random \n",
    "thrownDiceNumbers = [0] * 5\n",
    "for i in range(5):\n",
    "    thrownDiceNumbers[i] = random.randint(1, 6)\n",
    "print(\"List of thrown dice numbers:\", thrownDiceNumbers)\n",
    "\n",
    "sum_of_values = sum(thrownDiceNumbers)\n",
    "print(\"sum of the values:\", sum_of_values)\n",
    "\n",
    "max_value = max(thrownDiceNumbers)\n",
    "print(\"Highest value in the list:\", max_value)\n"
   ]
  },
  {
   "cell_type": "code",
   "execution_count": 21,
   "metadata": {},
   "outputs": [
    {
     "name": "stdout",
     "output_type": "stream",
     "text": [
      "Randomly picked numbers: [13, 15, 8, 16, 10]\n"
     ]
    }
   ],
   "source": [
    "#Extra\n",
    "picked_numbers = random.sample(range(1, 21), 5)\n",
    "print(\"Randomly picked numbers:\", picked_numbers)\n"
   ]
  }
 ],
 "metadata": {
  "kernelspec": {
   "display_name": "Python 3",
   "language": "python",
   "name": "python3"
  },
  "language_info": {
   "codemirror_mode": {
    "name": "ipython",
    "version": 3
   },
   "file_extension": ".py",
   "mimetype": "text/x-python",
   "name": "python",
   "nbconvert_exporter": "python",
   "pygments_lexer": "ipython3",
   "version": "3.13.0"
  }
 },
 "nbformat": 4,
 "nbformat_minor": 2
}
