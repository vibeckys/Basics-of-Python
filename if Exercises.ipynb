{
 "cells": [
  {
   "cell_type": "code",
   "execution_count": 14,
   "metadata": {},
   "outputs": [
    {
     "name": "stdout",
     "output_type": "stream",
     "text": [
      "number1 is greater than number2\n",
      "number1 is greater or iqual than number2\n",
      "number1 is Not equal to number2\n"
     ]
    }
   ],
   "source": [
    "number1 = 27\n",
    "number2 = 25\n",
    "if number1 == number2:\n",
    "   print(\"numbers are equals\")\n",
    "if number1 > number2:\n",
    "   print(\"number1 is greater than number2\")\n",
    "if number1 >= number2:\n",
    "   print(\"number1 is greater or iqual than number2\")\n",
    "if number1 != number2:\n",
    "   print(\"number1 is Not equal to number2\")"
   ]
  },
  {
   "cell_type": "code",
   "execution_count": 45,
   "metadata": {},
   "outputs": [
    {
     "name": "stdout",
     "output_type": "stream",
     "text": [
      "number2 is greater than number3\n"
     ]
    }
   ],
   "source": [
    "number1 = 5\n",
    "number2 = 6\n",
    "number3 = 5\n",
    "if number1 == number2 == number1 == number3:\n",
    "    print(\"all numbers are equals.\")\n",
    "if number1 == number2 or number2 == number3:\n",
    " print(\"all numbers are equals\")\n",
    "if number1 > number2:\n",
    "   print(\"number1 is greater than number2\")\n",
    "elif number2 > number3:\n",
    "   print(\"number2 is greater than number3\")\n",
    "if number1 == number2:\n",
    "  print(\"Numbers are equals\")\n",
    "elif number1 > number3:\n",
    "  print(\"Number1 and number3 are equal\")\n",
    "  "
   ]
  },
  {
   "cell_type": "code",
   "execution_count": 57,
   "metadata": {},
   "outputs": [
    {
     "name": "stdout",
     "output_type": "stream",
     "text": [
      "names are not equals\n",
      "number1 and number3 are equal.\n"
     ]
    }
   ],
   "source": [
    "name1 = \"w\"\n",
    "name2 = \"e\"\n",
    "name3 = \"w\"\n",
    "if name1 == name2:\n",
    "    print(\"names are equals\")\n",
    "if name1 != name2:\n",
    "    print(\"names are not equals\")\n",
    "if name1 == name2:\n",
    "    print(\"name1 and name2 are equal\")\n",
    "elif name1 == name3:\n",
    "    print(\"number1 and number3 are equal.\")\n",
    "\n"
   ]
  }
 ],
 "metadata": {
  "kernelspec": {
   "display_name": "Python 3",
   "language": "python",
   "name": "python3"
  },
  "language_info": {
   "codemirror_mode": {
    "name": "ipython",
    "version": 3
   },
   "file_extension": ".py",
   "mimetype": "text/x-python",
   "name": "python",
   "nbconvert_exporter": "python",
   "pygments_lexer": "ipython3",
   "version": "3.13.0"
  }
 },
 "nbformat": 4,
 "nbformat_minor": 2
}
